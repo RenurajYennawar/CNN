{
  "nbformat": 4,
  "nbformat_minor": 0,
  "metadata": {
    "colab": {
      "name": "Cifar10 Image Classification using CNN.ipynb",
      "provenance": [],
      "collapsed_sections": []
    },
    "kernelspec": {
      "name": "python3",
      "display_name": "Python 3"
    }
  },
  "cells": [
    {
      "cell_type": "markdown",
      "metadata": {
        "id": "6ktaP87XCh-E"
      },
      "source": [
        "**About Cifar10 Dataset:**\r\n",
        "\r\n",
        "\r\n",
        "The CIFAR-10 dataset consists of 60000 32x32 colour images in 10 classes, with 6000 images per class. There are 50000 training images and 10000 test images.\r\n",
        "\r\n",
        "The dataset is divided into five training batches and one test batch, each with 10000 images. The test batch contains exactly 1000 randomly-selected images from each class. The training batches contain the remaining images in random order, but some training batches may contain more images from one class than another. Between them, the training batches contain exactly 5000 images from each class.\r\n",
        "\r\n",
        "\r\n",
        "\r\n",
        "Here are the classes in the dataset, as well as 10 random images from each:\r\n",
        "\r\n",
        "\r\n",
        "1.airplane\r\n",
        "\r\n",
        "2.automobile\r\n",
        "\r\n",
        "3.bird\r\n",
        "\r\n",
        "4.cat\r\n",
        "\r\n",
        "5.deer\r\n",
        "\r\n",
        "6.dog\r\n",
        "\r\n",
        "7.frog\r\n",
        "\r\n",
        "8.horse\r\n",
        "\r\n",
        "9.ship\r\n",
        "\r\n",
        "10.truck\r\n"
      ]
    },
    {
      "cell_type": "code",
      "metadata": {
        "id": "BKN0-u3oDL3-"
      },
      "source": [
        "# importing all libraries\r\n",
        "import numpy as np\r\n",
        "import pandas as pd\r\n",
        "import matplotlib.pyplot as plt\r\n",
        "import tensorflow as tf\r\n",
        "from tensorflow.keras.models import Sequential\r\n",
        "from tensorflow.keras.layers import Dense,MaxPooling2D,Conv2D,Flatten,Dropout,BatchNormalization\r\n",
        "from tensorflow.keras.datasets import cifar10\r\n",
        "from sklearn.model_selection import train_test_split\r\n",
        "from keras.utils import np_utils"
      ],
      "execution_count": 1,
      "outputs": []
    },
    {
      "cell_type": "code",
      "metadata": {
        "colab": {
          "base_uri": "https://localhost:8080/"
        },
        "id": "vkc9Kp0KEh9d",
        "outputId": "9aef4f97-c49a-481d-a286-91056eaf85d2"
      },
      "source": [
        "(x_train,y_train),(x_test,y_test)=cifar10.load_data()    # loading the dataset"
      ],
      "execution_count": 2,
      "outputs": [
        {
          "output_type": "stream",
          "text": [
            "Downloading data from https://www.cs.toronto.edu/~kriz/cifar-10-python.tar.gz\n",
            "170500096/170498071 [==============================] - 4s 0us/step\n"
          ],
          "name": "stdout"
        }
      ]
    },
    {
      "cell_type": "code",
      "metadata": {
        "colab": {
          "base_uri": "https://localhost:8080/"
        },
        "id": "pHqHda-fE03m",
        "outputId": "3ed6d522-8a64-4ea7-c833-0b2621e6e80f"
      },
      "source": [
        "# checking the shape\r\n",
        "x_train.shape"
      ],
      "execution_count": 3,
      "outputs": [
        {
          "output_type": "execute_result",
          "data": {
            "text/plain": [
              "(50000, 32, 32, 3)"
            ]
          },
          "metadata": {
            "tags": []
          },
          "execution_count": 3
        }
      ]
    },
    {
      "cell_type": "code",
      "metadata": {
        "colab": {
          "base_uri": "https://localhost:8080/"
        },
        "id": "W15KL_zWFFwO",
        "outputId": "21dd49b8-8995-467a-dcfa-0320899a493e"
      },
      "source": [
        "y_train.shape"
      ],
      "execution_count": 4,
      "outputs": [
        {
          "output_type": "execute_result",
          "data": {
            "text/plain": [
              "(50000, 1)"
            ]
          },
          "metadata": {
            "tags": []
          },
          "execution_count": 4
        }
      ]
    },
    {
      "cell_type": "code",
      "metadata": {
        "colab": {
          "base_uri": "https://localhost:8080/"
        },
        "id": "Ya_wXINBFKg1",
        "outputId": "1d051087-aa60-427b-e6c7-d2dc872077bf"
      },
      "source": [
        "x_test.shape"
      ],
      "execution_count": 5,
      "outputs": [
        {
          "output_type": "execute_result",
          "data": {
            "text/plain": [
              "(10000, 32, 32, 3)"
            ]
          },
          "metadata": {
            "tags": []
          },
          "execution_count": 5
        }
      ]
    },
    {
      "cell_type": "code",
      "metadata": {
        "colab": {
          "base_uri": "https://localhost:8080/"
        },
        "id": "M1BWxu70FOi9",
        "outputId": "dc9a03ff-3385-4dff-e82e-83a5279946df"
      },
      "source": [
        "y_test.shape"
      ],
      "execution_count": 6,
      "outputs": [
        {
          "output_type": "execute_result",
          "data": {
            "text/plain": [
              "(10000, 1)"
            ]
          },
          "metadata": {
            "tags": []
          },
          "execution_count": 6
        }
      ]
    },
    {
      "cell_type": "code",
      "metadata": {
        "colab": {
          "base_uri": "https://localhost:8080/"
        },
        "id": "UySDvKYAFS1Y",
        "outputId": "dbbbb7e1-9385-49da-b8b3-094dffe9ac2b"
      },
      "source": [
        "x_train[20]"
      ],
      "execution_count": 7,
      "outputs": [
        {
          "output_type": "execute_result",
          "data": {
            "text/plain": [
              "array([[[153, 157, 155],\n",
              "        [174, 180, 188],\n",
              "        [155, 165, 172],\n",
              "        ...,\n",
              "        [122, 125, 123],\n",
              "        [138, 143, 141],\n",
              "        [ 97, 101,  97]],\n",
              "\n",
              "       [[160, 163, 165],\n",
              "        [164, 170, 180],\n",
              "        [150, 159, 169],\n",
              "        ...,\n",
              "        [137, 135, 129],\n",
              "        [160, 161, 157],\n",
              "        [103, 109, 107]],\n",
              "\n",
              "       [[140, 143, 147],\n",
              "        [147, 152, 166],\n",
              "        [136, 145, 158],\n",
              "        ...,\n",
              "        [104, 103,  99],\n",
              "        [125, 128, 125],\n",
              "        [ 93, 102, 101]],\n",
              "\n",
              "       ...,\n",
              "\n",
              "       [[175, 177, 179],\n",
              "        [170, 172, 174],\n",
              "        [170, 172, 174],\n",
              "        ...,\n",
              "        [193, 203, 212],\n",
              "        [197, 206, 214],\n",
              "        [199, 204, 213]],\n",
              "\n",
              "       [[174, 177, 181],\n",
              "        [173, 176, 180],\n",
              "        [171, 174, 178],\n",
              "        ...,\n",
              "        [200, 208, 216],\n",
              "        [202, 209, 218],\n",
              "        [208, 212, 221]],\n",
              "\n",
              "       [[168, 173, 180],\n",
              "        [164, 169, 175],\n",
              "        [166, 171, 177],\n",
              "        ...,\n",
              "        [204, 209, 217],\n",
              "        [204, 208, 217],\n",
              "        [206, 210, 219]]], dtype=uint8)"
            ]
          },
          "metadata": {
            "tags": []
          },
          "execution_count": 7
        }
      ]
    },
    {
      "cell_type": "code",
      "metadata": {
        "colab": {
          "base_uri": "https://localhost:8080/",
          "height": 1000
        },
        "id": "qaaaAWVkFXnn",
        "outputId": "4e05ce8b-339f-4d66-ba41-43a7efb7878a"
      },
      "source": [
        "for i in range(4):\r\n",
        "  plt.imshow(x_train[i])\r\n",
        "  plt.show()"
      ],
      "execution_count": 9,
      "outputs": [
        {
          "output_type": "display_data",
          "data": {
            "image/png": "[encoded data removed]",
            "text/plain": [
              "<Figure size 432x288 with 1 Axes>"
            ]
          },
          "metadata": {
            "tags": [],
            "needs_background": "light"
          }
        },
        {
          "output_type": "display_data",
          "data": {
            "image/png": "[encoded data removed]",
            "text/plain": [
              "<Figure size 432x288 with 1 Axes>"
            ]
          },
          "metadata": {
            "tags": [],
            "needs_background": "light"
          }
        },
        {
          "output_type": "display_data",
          "data": {
            "image/png": "[encoded data removed]",
            "text/plain": [
              "<Figure size 432x288 with 1 Axes>"
            ]
          },
          "metadata": {
            "tags": [],
            "needs_background": "light"
          }
        },
        {
          "output_type": "display_data",
          "data": {
            "image/png": "[encoded data removed]",
            "text/plain": [
              "<Figure size 432x288 with 1 Axes>"
            ]
          },
          "metadata": {
            "tags": [],
            "needs_background": "light"
          }
        }
      ]
    },
    {
      "cell_type": "code",
      "metadata": {
        "colab": {
          "base_uri": "https://localhost:8080/"
        },
        "id": "X-feywoVF0nD",
        "outputId": "698e234c-581b-427f-8dae-0985bcf256d1"
      },
      "source": [
        "y_train"
      ],
      "execution_count": 10,
      "outputs": [
        {
          "output_type": "execute_result",
          "data": {
            "text/plain": [
              "array([[6],\n",
              "       [9],\n",
              "       [9],\n",
              "       ...,\n",
              "       [9],\n",
              "       [1],\n",
              "       [1]], dtype=uint8)"
            ]
          },
          "metadata": {
            "tags": []
          },
          "execution_count": 10
        }
      ]
    },
    {
      "cell_type": "code",
      "metadata": {
        "colab": {
          "base_uri": "https://localhost:8080/"
        },
        "id": "QrTMEMoPF4yX",
        "outputId": "ed4feba8-3d0c-4bff-ba31-e15d844e57ea"
      },
      "source": [
        "np.unique(y_train)"
      ],
      "execution_count": 11,
      "outputs": [
        {
          "output_type": "execute_result",
          "data": {
            "text/plain": [
              "array([0, 1, 2, 3, 4, 5, 6, 7, 8, 9], dtype=uint8)"
            ]
          },
          "metadata": {
            "tags": []
          },
          "execution_count": 11
        }
      ]
    },
    {
      "cell_type": "code",
      "metadata": {
        "id": "7xoINg0MF_E3"
      },
      "source": [
        "x_train=x_train/255\r\n",
        "x_test=x_test/255"
      ],
      "execution_count": 12,
      "outputs": []
    },
    {
      "cell_type": "code",
      "metadata": {
        "colab": {
          "base_uri": "https://localhost:8080/"
        },
        "id": "ISUWDt3SGIhn",
        "outputId": "741a07f3-fe1c-43c7-c2b7-1ab042d5d54c"
      },
      "source": [
        "x_train[3]"
      ],
      "execution_count": 13,
      "outputs": [
        {
          "output_type": "execute_result",
          "data": {
            "text/plain": [
              "array([[[0.10980392, 0.09803922, 0.03921569],\n",
              "        [0.14509804, 0.13333333, 0.0745098 ],\n",
              "        [0.14901961, 0.1372549 , 0.07843137],\n",
              "        ...,\n",
              "        [0.29803922, 0.2627451 , 0.15294118],\n",
              "        [0.31764706, 0.28235294, 0.16862745],\n",
              "        [0.33333333, 0.29803922, 0.18431373]],\n",
              "\n",
              "       [[0.12941176, 0.10980392, 0.05098039],\n",
              "        [0.13333333, 0.11764706, 0.05490196],\n",
              "        [0.1254902 , 0.10588235, 0.04705882],\n",
              "        ...,\n",
              "        [0.37254902, 0.32156863, 0.21568627],\n",
              "        [0.37647059, 0.32156863, 0.21960784],\n",
              "        [0.33333333, 0.28235294, 0.17647059]],\n",
              "\n",
              "       [[0.15294118, 0.1254902 , 0.05882353],\n",
              "        [0.15686275, 0.12941176, 0.06666667],\n",
              "        [0.22352941, 0.19607843, 0.12941176],\n",
              "        ...,\n",
              "        [0.36470588, 0.29803922, 0.20392157],\n",
              "        [0.41960784, 0.34901961, 0.25882353],\n",
              "        [0.37254902, 0.30196078, 0.21176471]],\n",
              "\n",
              "       ...,\n",
              "\n",
              "       [[0.3254902 , 0.28627451, 0.20392157],\n",
              "        [0.34117647, 0.30196078, 0.21960784],\n",
              "        [0.32941176, 0.29019608, 0.20392157],\n",
              "        ...,\n",
              "        [0.38823529, 0.36470588, 0.2745098 ],\n",
              "        [0.35294118, 0.32941176, 0.23921569],\n",
              "        [0.31764706, 0.29411765, 0.20392157]],\n",
              "\n",
              "       [[0.34509804, 0.28235294, 0.2       ],\n",
              "        [0.35294118, 0.29019608, 0.20392157],\n",
              "        [0.36470588, 0.30196078, 0.21960784],\n",
              "        ...,\n",
              "        [0.31372549, 0.29019608, 0.20784314],\n",
              "        [0.29803922, 0.2745098 , 0.19215686],\n",
              "        [0.32156863, 0.29803922, 0.21568627]],\n",
              "\n",
              "       [[0.38039216, 0.30588235, 0.21960784],\n",
              "        [0.36862745, 0.29411765, 0.20784314],\n",
              "        [0.36470588, 0.29411765, 0.20784314],\n",
              "        ...,\n",
              "        [0.21176471, 0.18431373, 0.10980392],\n",
              "        [0.24705882, 0.21960784, 0.14509804],\n",
              "        [0.28235294, 0.25490196, 0.18039216]]])"
            ]
          },
          "metadata": {
            "tags": []
          },
          "execution_count": 13
        }
      ]
    },
    {
      "cell_type": "code",
      "metadata": {
        "id": "pLjFEFoKGNJi"
      },
      "source": [
        "y_train=np_utils.to_categorical(y_train,10)\r\n",
        "y_test=np_utils.to_categorical(y_test,10)"
      ],
      "execution_count": 14,
      "outputs": []
    },
    {
      "cell_type": "code",
      "metadata": {
        "colab": {
          "base_uri": "https://localhost:8080/"
        },
        "id": "Xr2fLl2nGjew",
        "outputId": "81866971-92e9-4233-c2f2-d73fec446952"
      },
      "source": [
        "y_train[3]"
      ],
      "execution_count": 15,
      "outputs": [
        {
          "output_type": "execute_result",
          "data": {
            "text/plain": [
              "array([0., 0., 0., 0., 1., 0., 0., 0., 0., 0.], dtype=float32)"
            ]
          },
          "metadata": {
            "tags": []
          },
          "execution_count": 15
        }
      ]
    },
    {
      "cell_type": "code",
      "metadata": {
        "id": "_Wug1UqVGoZX"
      },
      "source": [
        "x_train=x_train.reshape(x_train.shape[0],32,32,3)\r\n",
        "x_test=x_test.reshape(x_test.shape[0],32,32,3)"
      ],
      "execution_count": 18,
      "outputs": []
    },
    {
      "cell_type": "code",
      "metadata": {
        "colab": {
          "base_uri": "https://localhost:8080/"
        },
        "id": "euwkKuB6HjXH",
        "outputId": "3b7007b2-63dd-4579-b24a-97562a2d2c5d"
      },
      "source": [
        "x_train.shape"
      ],
      "execution_count": 19,
      "outputs": [
        {
          "output_type": "execute_result",
          "data": {
            "text/plain": [
              "(50000, 32, 32, 3)"
            ]
          },
          "metadata": {
            "tags": []
          },
          "execution_count": 19
        }
      ]
    },
    {
      "cell_type": "code",
      "metadata": {
        "id": "plHVrW-UHojv"
      },
      "source": [
        "model=Sequential()"
      ],
      "execution_count": 26,
      "outputs": []
    },
    {
      "cell_type": "code",
      "metadata": {
        "id": "ch9E-7r4HtBB"
      },
      "source": [
        "model.add(Conv2D(32,(3,3),activation='relu',padding='same',input_shape=(32,32,3)))\r\n",
        "model.add(MaxPooling2D())\r\n",
        "model.add(Conv2D(128,(3,3),activation='relu',padding='same'))\r\n",
        "model.add(MaxPooling2D())\r\n",
        "model.add(Flatten())\r\n",
        "model.add(Dense(256,activation='relu'))\r\n",
        "model.add(BatchNormalization())\r\n",
        "model.add(Dropout(0.5))\r\n",
        "model.add(Dense(512,activation='relu'))\r\n",
        "model.add(BatchNormalization())\r\n",
        "model.add(Dropout(0.5))\r\n",
        "model.add(Dense(10,activation='softmax'))"
      ],
      "execution_count": 27,
      "outputs": []
    },
    {
      "cell_type": "code",
      "metadata": {
        "colab": {
          "base_uri": "https://localhost:8080/"
        },
        "id": "YzRHEkcGJcN8",
        "outputId": "656c4fa6-fcf0-4ae5-f1ce-dfd024e08dc6"
      },
      "source": [
        "model.summary()"
      ],
      "execution_count": 28,
      "outputs": [
        {
          "output_type": "stream",
          "text": [
            "Model: \"sequential_1\"\n",
            "_________________________________________________________________\n",
            "Layer (type)                 Output Shape              Param #   \n",
            "=================================================================\n",
            "conv2d_2 (Conv2D)            (None, 32, 32, 32)        896       \n",
            "_________________________________________________________________\n",
            "max_pooling2d_2 (MaxPooling2 (None, 16, 16, 32)        0         \n",
            "_________________________________________________________________\n",
            "conv2d_3 (Conv2D)            (None, 16, 16, 128)       36992     \n",
            "_________________________________________________________________\n",
            "max_pooling2d_3 (MaxPooling2 (None, 8, 8, 128)         0         \n",
            "_________________________________________________________________\n",
            "flatten_1 (Flatten)          (None, 8192)              0         \n",
            "_________________________________________________________________\n",
            "dense_3 (Dense)              (None, 256)               2097408   \n",
            "_________________________________________________________________\n",
            "batch_normalization_2 (Batch (None, 256)               1024      \n",
            "_________________________________________________________________\n",
            "dropout_2 (Dropout)          (None, 256)               0         \n",
            "_________________________________________________________________\n",
            "dense_4 (Dense)              (None, 512)               131584    \n",
            "_________________________________________________________________\n",
            "batch_normalization_3 (Batch (None, 512)               2048      \n",
            "_________________________________________________________________\n",
            "dropout_3 (Dropout)          (None, 512)               0         \n",
            "_________________________________________________________________\n",
            "dense_5 (Dense)              (None, 10)                5130      \n",
            "=================================================================\n",
            "Total params: 2,275,082\n",
            "Trainable params: 2,273,546\n",
            "Non-trainable params: 1,536\n",
            "_________________________________________________________________\n"
          ],
          "name": "stdout"
        }
      ]
    },
    {
      "cell_type": "code",
      "metadata": {
        "id": "ddT-cUPFJhtP"
      },
      "source": [
        "model.compile(loss='categorical_crossentropy',optimizer='adam',metrics='accuracy')"
      ],
      "execution_count": 29,
      "outputs": []
    },
    {
      "cell_type": "code",
      "metadata": {
        "colab": {
          "base_uri": "https://localhost:8080/"
        },
        "id": "8Y8Oy_qfJv63",
        "outputId": "907da185-5a41-4156-88f6-28c536a344fc"
      },
      "source": [
        "history=model.fit(x_train,y_train,batch_size=200,epochs=10)"
      ],
      "execution_count": 30,
      "outputs": [
        {
          "output_type": "stream",
          "text": [
            "Epoch 1/10\n",
            "250/250 [==============================] - 107s 423ms/step - loss: 2.2670 - accuracy: 0.3183\n",
            "Epoch 2/10\n",
            "250/250 [==============================] - 106s 426ms/step - loss: 1.2342 - accuracy: 0.5641\n",
            "Epoch 3/10\n",
            "250/250 [==============================] - 105s 421ms/step - loss: 1.0144 - accuracy: 0.6429\n",
            "Epoch 4/10\n",
            "250/250 [==============================] - 105s 421ms/step - loss: 0.9013 - accuracy: 0.6837\n",
            "Epoch 5/10\n",
            "250/250 [==============================] - 105s 421ms/step - loss: 0.8239 - accuracy: 0.7110\n",
            "Epoch 6/10\n",
            "250/250 [==============================] - 105s 419ms/step - loss: 0.7665 - accuracy: 0.7330\n",
            "Epoch 7/10\n",
            "250/250 [==============================] - 105s 419ms/step - loss: 0.7084 - accuracy: 0.7512\n",
            "Epoch 8/10\n",
            "250/250 [==============================] - 105s 420ms/step - loss: 0.6627 - accuracy: 0.7694\n",
            "Epoch 9/10\n",
            "250/250 [==============================] - 105s 420ms/step - loss: 0.6200 - accuracy: 0.7821\n",
            "Epoch 10/10\n",
            "250/250 [==============================] - 104s 417ms/step - loss: 0.5777 - accuracy: 0.8006\n"
          ],
          "name": "stdout"
        }
      ]
    },
    {
      "cell_type": "code",
      "metadata": {
        "colab": {
          "base_uri": "https://localhost:8080/"
        },
        "id": "P-dUbVDIKxQ8",
        "outputId": "57f0be50-9764-4aa5-ccf0-8369d1e175d5"
      },
      "source": [
        "score=model.evaluate(x_test,y_test)"
      ],
      "execution_count": 31,
      "outputs": [
        {
          "output_type": "stream",
          "text": [
            "313/313 [==============================] - 7s 22ms/step - loss: 0.8950 - accuracy: 0.7172\n"
          ],
          "name": "stdout"
        }
      ]
    },
    {
      "cell_type": "code",
      "metadata": {
        "colab": {
          "base_uri": "https://localhost:8080/",
          "height": 282
        },
        "id": "rtlqZO0ERIzz",
        "outputId": "812d6052-c16e-42ab-cd10-97e89df83994"
      },
      "source": [
        "plt.plot(history.history['accuracy'])"
      ],
      "execution_count": 32,
      "outputs": [
        {
          "output_type": "execute_result",
          "data": {
            "text/plain": [
              "[<matplotlib.lines.Line2D at 0x7f205942e438>]"
            ]
          },
          "metadata": {
            "tags": []
          },
          "execution_count": 32
        },
        {
          "output_type": "display_data",
          "data": {
            "image/png": "[encoded data removed]",
            "text/plain": [
              "<Figure size 432x288 with 1 Axes>"
            ]
          },
          "metadata": {
            "tags": [],
            "needs_background": "light"
          }
        }
      ]
    },
    {
      "cell_type": "code",
      "metadata": {
        "id": "PmhOewGIRRa6"
      },
      "source": [
        "prediction=model.predict(x_test)"
      ],
      "execution_count": 33,
      "outputs": []
    },
    {
      "cell_type": "code",
      "metadata": {
        "colab": {
          "base_uri": "https://localhost:8080/"
        },
        "id": "RambFPYdRZgK",
        "outputId": "a563e756-f06e-49ca-a960-9cb35a7ccf34"
      },
      "source": [
        "print(np.argmax(np.round(prediction[10])))"
      ],
      "execution_count": 47,
      "outputs": [
        {
          "output_type": "stream",
          "text": [
            "0\n"
          ],
          "name": "stdout"
        }
      ]
    },
    {
      "cell_type": "code",
      "metadata": {
        "colab": {
          "base_uri": "https://localhost:8080/",
          "height": 283
        },
        "id": "q7_zxhhbRkLw",
        "outputId": "e08b7fc8-3c66-411a-cb77-3c7abaed972c"
      },
      "source": [
        "my_image=x_test[10]\r\n",
        "plt.imshow(my_image)"
      ],
      "execution_count": 48,
      "outputs": [
        {
          "output_type": "execute_result",
          "data": {
            "text/plain": [
              "<matplotlib.image.AxesImage at 0x7f20588e94e0>"
            ]
          },
          "metadata": {
            "tags": []
          },
          "execution_count": 48
        },
        {
          "output_type": "display_data",
          "data": {
            "image/png": "[encoded data removed]",
            "text/plain": [
              "<Figure size 432x288 with 1 Axes>"
            ]
          },
          "metadata": {
            "tags": [],
            "needs_background": "light"
          }
        }
      ]
    }
  ]
}